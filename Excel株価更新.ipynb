{
 "cells": [
  {
   "cell_type": "code",
   "execution_count": 48,
   "id": "4b60f13d-86da-41cd-8d34-466d8eca4260",
   "metadata": {},
   "outputs": [],
   "source": [
    "import pandas as pd\n",
    "import yfinance as yf"
   ]
  },
  {
   "cell_type": "code",
   "execution_count": 49,
   "id": "3171a3ba-3f67-470e-826a-b8e3aaa36ce9",
   "metadata": {},
   "outputs": [],
   "source": [
    "# 株価データを取得する関数\n",
    "def get_stock_data(ticker, start_date, end_date):\n",
    "    data = yf.download(ticker, start=start_date, end=end_date)\n",
    "    return data"
   ]
  },
  {
   "cell_type": "code",
   "execution_count": 50,
   "id": "b31a004f-2b40-4702-b3ee-24c93d26716e",
   "metadata": {},
   "outputs": [],
   "source": [
    "# 日付範囲を指定\n",
    "start_date = '2024-3-29'\n",
    "end_date = '2024-05-24'\n",
    "ticker = '^N225'"
   ]
  },
  {
   "cell_type": "code",
   "execution_count": 51,
   "id": "fc5ffe2e-6365-4ad4-ba5e-489314cb5a2c",
   "metadata": {},
   "outputs": [
    {
     "name": "stderr",
     "output_type": "stream",
     "text": [
      "[*********************100%%**********************]  1 of 1 completed\n"
     ]
    }
   ],
   "source": [
    "# 株価データを取得\n",
    "stock_data = get_stock_data(ticker, start_date, end_date)"
   ]
  },
  {
   "cell_type": "code",
   "execution_count": 52,
   "id": "e00f31c8-87e2-463b-8891-a6429d66040e",
   "metadata": {},
   "outputs": [],
   "source": [
    "# Excelファイルの読み込み\n",
    "excel_file = 'japan_dataのコピー.xlsx'\n",
    "existing_data = pd.read_excel(excel_file)"
   ]
  },
  {
   "cell_type": "code",
   "execution_count": 53,
   "id": "3a4b1b7e-0078-4593-9c0d-2aabf1c795c7",
   "metadata": {},
   "outputs": [],
   "source": [
    "# 取得した株価データをデータフレームに追加\n",
    "new_data = stock_data.reset_index()\n",
    "updated_data = pd.concat([existing_data, new_data], ignore_index=True)"
   ]
  },
  {
   "cell_type": "code",
   "execution_count": 54,
   "id": "3f84d442-a36e-4564-bd1a-1152126aa714",
   "metadata": {},
   "outputs": [],
   "source": [
    "# データをExcelファイルに書き込み\n",
    "updated_data.to_excel(excel_file, index=False)"
   ]
  },
  {
   "cell_type": "code",
   "execution_count": null,
   "id": "07667d9e-9050-4d7a-aedb-5407f482e306",
   "metadata": {},
   "outputs": [],
   "source": []
  },
  {
   "cell_type": "code",
   "execution_count": null,
   "id": "a82bb11b-e896-49b9-af62-6d604fe055ee",
   "metadata": {},
   "outputs": [],
   "source": []
  }
 ],
 "metadata": {
  "kernelspec": {
   "display_name": "Python 3 (ipykernel)",
   "language": "python",
   "name": "python3"
  },
  "language_info": {
   "codemirror_mode": {
    "name": "ipython",
    "version": 3
   },
   "file_extension": ".py",
   "mimetype": "text/x-python",
   "name": "python",
   "nbconvert_exporter": "python",
   "pygments_lexer": "ipython3",
   "version": "3.11.7"
  }
 },
 "nbformat": 4,
 "nbformat_minor": 5
}
