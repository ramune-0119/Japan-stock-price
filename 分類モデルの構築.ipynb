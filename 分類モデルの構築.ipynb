{
 "cells": [
  {
   "cell_type": "code",
   "execution_count": 5,
   "id": "84dacb9e-85ce-446e-9b2c-906afe255338",
   "metadata": {},
   "outputs": [],
   "source": [
    "import pandas as pd\n",
    "\n",
    "# CSVファイルからデータを読み込む\n",
    "df = pd.read_csv('japan_2022.csv')"
   ]
  },
  {
   "cell_type": "code",
   "execution_count": 6,
   "id": "e920bce9-0ecd-496e-80f3-c3dca84ac878",
   "metadata": {},
   "outputs": [
    {
     "name": "stdout",
     "output_type": "stream",
     "text": [
      "Date         0\n",
      "Open         0\n",
      "High         0\n",
      "Low          0\n",
      "Close        0\n",
      "Adj Close    0\n",
      "Volume       0\n",
      "dtype: int64\n",
      "                   Date         Open         High          Low        Close  \\\n",
      "19  2022-02-01 00:00:00  27167.14063  27410.78906  27016.71094  27078.48047   \n",
      "20  2022-02-02 00:00:00  27302.99023  27564.61914  27289.16016  27533.59961   \n",
      "21  2022-02-03 00:00:00  27330.96094  27357.33008  27165.92969  27241.31055   \n",
      "22  2022-02-04 00:00:00  27095.90039  27455.98047  27075.99023  27439.99023   \n",
      "23  2022-02-07 00:00:00  27327.63086  27369.67969  27085.32031  27248.86914   \n",
      "\n",
      "      Adj Close    Volume          MA_5         MA_10         MA_20  \\\n",
      "19  27078.48047  81100000  26795.886328  27146.156055  27862.712989   \n",
      "20  27533.59961  85200000  26900.340234  27152.792969  27774.303517   \n",
      "21  27241.31055  81100000  27114.542188  27099.631055  27669.761036   \n",
      "22  27439.99023  79600000  27259.072266  27091.404101  27617.367090   \n",
      "23  27248.86914  77100000  27308.450000  27057.454101  27555.882520   \n",
      "\n",
      "    Volatility  Target  \n",
      "19  376.256921       1  \n",
      "20  502.376569       0  \n",
      "21  301.421480       1  \n",
      "22  227.553092       0  \n",
      "23  179.540210       1  \n"
     ]
    },
    {
     "name": "stderr",
     "output_type": "stream",
     "text": [
      "/var/folders/qv/99_g4bfn2t79tdbjt87pmqfh0000gn/T/ipykernel_10323/1684577523.py:6: FutureWarning: DataFrame.fillna with 'method' is deprecated and will raise in a future version. Use obj.ffill() or obj.bfill() instead.\n",
      "  df.fillna(method='ffill', inplace=True)\n"
     ]
    }
   ],
   "source": [
    "# 欠損値の確認\n",
    "print(df.isnull().sum())\n",
    "\n",
    "# 欠損値の補完（例えば、前日の値で補完する）\n",
    "# 'ffill'は前の値で欠損値を埋める方法\n",
    "df.fillna(method='ffill', inplace=True)\n",
    "\n",
    "# 移動平均の計算 (5日, 10日, 20日)\n",
    "# 移動平均を特徴量として追加\n",
    "df['MA_5'] = df['Close'].rolling(window=5).mean()\n",
    "df['MA_10'] = df['Close'].rolling(window=10).mean()\n",
    "df['MA_20'] = df['Close'].rolling(window=20).mean()\n",
    "\n",
    "# ボラティリティ（標準偏差）の計算\n",
    "# ボラティリティを特徴量として追加\n",
    "df['Volatility'] = df['Close'].rolling(window=5).std()\n",
    "\n",
    "# クラスラベルの作成\n",
    "# 翌日の終値が今日の終値より高ければ1、低ければ0とする\n",
    "df['Target'] = (df['Close'].shift(-1) > df['Close']).astype(int)\n",
    "\n",
    "# 最後の行は目的変数（Target）が欠損しているため削除\n",
    "df.dropna(inplace=True)\n",
    "\n",
    "# データの先頭5行を表示して確認する\n",
    "print(df.head())\n"
   ]
  },
  {
   "cell_type": "code",
   "execution_count": 7,
   "id": "4dce4418-e00d-47d5-bb2b-bd33b3f78012",
   "metadata": {},
   "outputs": [
    {
     "name": "stdout",
     "output_type": "stream",
     "text": [
      "Confusion Matrix:\n",
      "[[ 8 12]\n",
      " [ 9 16]]\n",
      "Accuracy: 0.5333333333333333\n",
      "Precision: 0.5714285714285714\n",
      "Recall: 0.64\n",
      "F1 Score: 0.6037735849056605\n"
     ]
    }
   ],
   "source": [
    "from sklearn.model_selection import train_test_split\n",
    "from sklearn.ensemble import RandomForestClassifier\n",
    "from sklearn.metrics import confusion_matrix, accuracy_score, precision_score, recall_score, f1_score\n",
    "\n",
    "# 説明変数と目的変数の設定\n",
    "# 説明変数（特徴量）の選択\n",
    "X = df[['Open', 'High', 'Low', 'Close', 'Volume', 'MA_5', 'MA_10', 'MA_20', 'Volatility']]\n",
    "# 目的変数（ターゲット）の選択\n",
    "y = df['Target']\n",
    "\n",
    "# データの分割\n",
    "# 訓練データとテストデータに分割（80%訓練データ、20%テストデータ）\n",
    "X_train, X_test, y_train, y_test = train_test_split(X, y, test_size=0.2, random_state=42)\n",
    "\n",
    "# ランダムフォレスト分類モデルの構築\n",
    "model = RandomForestClassifier(n_estimators=100, random_state=42)\n",
    "# モデルを訓練データで学習\n",
    "model.fit(X_train, y_train)\n",
    "\n",
    "# テストデータを用いて予測\n",
    "y_pred = model.predict(X_test)\n",
    "\n",
    "# 評価\n",
    "# 混同行列の作成\n",
    "cm = confusion_matrix(y_test, y_pred)\n",
    "# 正解率（Accuracy）の計算\n",
    "accuracy = accuracy_score(y_test, y_pred)\n",
    "# 精度（Precision）の計算\n",
    "precision = precision_score(y_test, y_pred)\n",
    "# 再現率（Recall）の計算\n",
    "recall = recall_score(y_test, y_pred)\n",
    "# F1スコアの計算\n",
    "f1 = f1_score(y_test, y_pred)\n",
    "\n",
    "# 評価結果を表示\n",
    "print(f'Confusion Matrix:\\n{cm}')\n",
    "print(f'Accuracy: {accuracy}')\n",
    "print(f'Precision: {precision}')\n",
    "print(f'Recall: {recall}')\n",
    "print(f'F1 Score: {f1}')"
   ]
  }
 ],
 "metadata": {
  "kernelspec": {
   "display_name": "Python 3 (ipykernel)",
   "language": "python",
   "name": "python3"
  },
  "language_info": {
   "codemirror_mode": {
    "name": "ipython",
    "version": 3
   },
   "file_extension": ".py",
   "mimetype": "text/x-python",
   "name": "python",
   "nbconvert_exporter": "python",
   "pygments_lexer": "ipython3",
   "version": "3.11.7"
  }
 },
 "nbformat": 4,
 "nbformat_minor": 5
}
